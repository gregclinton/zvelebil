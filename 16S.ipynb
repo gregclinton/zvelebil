{
 "cells": [
  {
   "cell_type": "code",
   "execution_count": 10,
   "metadata": {
    "collapsed": false
   },
   "outputs": [],
   "source": [
    "genes = [\n",
    "    ('Photorhabdus luminescens', 1006591371),\n",
    "    ('Shigella flexneri', 152218525),\n",
    "    ('Escherichia coli', 38091817),\n",
    "    ('Salmonella typhimurium', 645322331),\n",
    "    ('Yersinia pestis', 576926),\n",
    "    ('Wigglesworthia glossinidia', 1709641),\n",
    "    ('Buchnera aphidicola', 1036552283),\n",
    "    ('Haemophilus influenzae', 602267003),\n",
    "    ('Pasteurella multocida', 175590),\n",
    "    ('Vibrio cholerae', 343206261),\n",
    "    ('Photobacterium profundum', 2924634)\n",
    "]"
   ]
  },
  {
   "cell_type": "code",
   "execution_count": 7,
   "metadata": {
    "collapsed": false
   },
   "outputs": [],
   "source": [
    "# https://www.ncbi.nlm.nih.gov/genome/probe/doc/QueryTips.shtml\n",
    "# \"Photorhabdus luminescens\"[porg] AND 16s[titl] NOT partial[titl] NOT clone[titl]"
   ]
  },
  {
   "cell_type": "code",
   "execution_count": 17,
   "metadata": {
    "collapsed": false
   },
   "outputs": [
    {
     "name": "stdout",
     "output_type": "stream",
     "text": [
      "https://eutils.ncbi.nlm.nih.gov/entrez/eutils/efetch.fcgi?db=nuccore&id=1006591371,152218525,38091817,645322331,576926,1709641,1036552283,602267003,175590,343206261,2924634&rettype=fasta\n"
     ]
    }
   ],
   "source": [
    "ids = ','.join(str(id) for _, id in genes)\n",
    "print 'https://eutils.ncbi.nlm.nih.gov/entrez/eutils/efetch.fcgi?db=nuccore&id=%s&rettype=fasta' % ids"
   ]
  },
  {
   "cell_type": "code",
   "execution_count": 18,
   "metadata": {
    "collapsed": false
   },
   "outputs": [
    {
     "name": "stdout",
     "output_type": "stream",
     "text": [
      "\n",
      "MUSCLE v3.8.31 by Robert C. Edgar\n",
      "\n",
      "http://www.drive5.com/muscle\n",
      "This software is donated to the public domain.\n",
      "Please cite: Edgar, R.C. Nucleic Acids Res 32(5), 1792-97.\n",
      "\n",
      "16S 11 seqs, max length 1543, avg  length 1457\n",
      "00:00:00    10 MB(-2%)  Iter   1  100.00%  K-mer dist pass 1\n",
      "00:00:00    10 MB(-2%)  Iter   1  100.00%  K-mer dist pass 2\n",
      "00:00:00    26 MB(-5%)  Iter   1  100.00%  Align node\n",
      "00:00:00    26 MB(-5%)  Iter   1  100.00%  Root alignment\n",
      "00:00:00    26 MB(-5%)  Iter   2  100.00%  Refine tree\n",
      "00:00:00    26 MB(-5%)  Iter   2  100.00%  Root alignment\n",
      "00:00:00    26 MB(-5%)  Iter   2  100.00%  Root alignment\n",
      "00:00:01    26 MB(-5%)  Iter   3  100.00%  Refine biparts\n",
      "00:00:01    26 MB(-5%)  Iter   4  100.00%  Refine biparts\n"
     ]
    }
   ],
   "source": [
    "!muscle3.8.31_i86linux64 -in 16S.fasta -out 16S.muscle"
   ]
  }
 ],
 "metadata": {
  "kernelspec": {
   "display_name": "Python 2",
   "language": "python",
   "name": "python2"
  },
  "language_info": {
   "codemirror_mode": {
    "name": "ipython",
    "version": 2
   },
   "file_extension": ".py",
   "mimetype": "text/x-python",
   "name": "python",
   "nbconvert_exporter": "python",
   "pygments_lexer": "ipython2",
   "version": "2.7.12"
  }
 },
 "nbformat": 4,
 "nbformat_minor": 0
}
