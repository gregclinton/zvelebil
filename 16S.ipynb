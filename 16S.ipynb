{
 "cells": [
  {
   "cell_type": "code",
   "execution_count": 1,
   "metadata": {
    "collapsed": false
   },
   "outputs": [
    {
     "name": "stdout",
     "output_type": "stream",
     "text": [
      "\n",
      "MUSCLE v3.8.31 by Robert C. Edgar\n",
      "\n",
      "http://www.drive5.com/muscle\n",
      "This software is donated to the public domain.\n",
      "Please cite: Edgar, R.C. Nucleic Acids Res 32(5), 1792-97.\n",
      "\n",
      "16S 4 seqs, max length 1488, avg  length 1216\n",
      "00:00:00    10 MB(-2%)  Iter   1  100.00%  K-mer dist pass 1\n",
      "00:00:00    10 MB(-2%)  Iter   1  100.00%  K-mer dist pass 2\n",
      "00:00:00    19 MB(-4%)  Iter   1  100.00%  Align node\n",
      "00:00:00    19 MB(-4%)  Iter   1  100.00%  Root alignment\n",
      "00:00:00    19 MB(-4%)  Iter   2  100.00%  Root alignment\n",
      "00:00:00    20 MB(-4%)  Iter   3  100.00%  Refine biparts\n"
     ]
    }
   ],
   "source": [
    "!muscle3.8.31_i86linux64 -in 16S.fasta -out 16S.muscle"
   ]
  }
 ],
 "metadata": {
  "kernelspec": {
   "display_name": "Python 2",
   "language": "python",
   "name": "python2"
  },
  "language_info": {
   "codemirror_mode": {
    "name": "ipython",
    "version": 2
   },
   "file_extension": ".py",
   "mimetype": "text/x-python",
   "name": "python",
   "nbconvert_exporter": "python",
   "pygments_lexer": "ipython2",
   "version": "2.7.12"
  }
 },
 "nbformat": 4,
 "nbformat_minor": 0
}
