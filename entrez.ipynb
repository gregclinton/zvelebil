{
 "cells": [
  {
   "cell_type": "code",
   "execution_count": null,
   "metadata": {
    "collapsed": false
   },
   "outputs": [],
   "source": [
    "# sudo -H anaconda/bin/pip install biopython\n",
    "\n",
    "from Bio import Entrez\n",
    "from Bio import SeqIO"
   ]
  },
  {
   "cell_type": "code",
   "execution_count": null,
   "metadata": {
    "collapsed": false
   },
   "outputs": [],
   "source": [
    "Entrez.email = 'greg.clinton@gmail.com'"
   ]
  },
  {
   "cell_type": "code",
   "execution_count": null,
   "metadata": {
    "collapsed": true
   },
   "outputs": [],
   "source": [
    "# http://www.ncbi.nlm.nih.gov/Sitemap/samplerecord.html\n",
    "\n",
    "# How many genes does e. coli have? What are their names?\n",
    "# How many species under homo?\n",
    "# sra vs nucleotide, gene, ref_seq"
   ]
  },
  {
   "cell_type": "code",
   "execution_count": 3,
   "metadata": {
    "collapsed": true
   },
   "outputs": [],
   "source": [
    "q = 'human[porg] AND tp53[gene] AND biomol_rna[prop] AND srcdb_refseq[prop]' \n",
    "db = 'nuccore'"
   ]
  },
  {
   "cell_type": "code",
   "execution_count": null,
   "metadata": {
    "collapsed": false
   },
   "outputs": [],
   "source": [
    "q = 'human[porg] AND tp53[gene] AND biomol_rna[prop] AND srcdb_refseq[prop]' \n",
    "record = Entrez.read(Entrez.esearch(db = dv, term = q))\n",
    "ids = ','.join(record['IdList'][:5])\n",
    "handle = Entrez.efetch(db = 'nuccore', id = ids, rettype = 'gb', retmode = 'text')\n",
    "records = SeqIO.parse(handle, 'gb')"
   ]
  },
  {
   "cell_type": "code",
   "execution_count": null,
   "metadata": {
    "collapsed": false
   },
   "outputs": [],
   "source": [
    "for record in records:\n",
    "    print record.name"
   ]
  },
  {
   "cell_type": "code",
   "execution_count": 164,
   "metadata": {
    "collapsed": false
   },
   "outputs": [
    {
     "name": "stdout",
     "output_type": "stream",
     "text": [
      "LOCUS       NM_001141980            6216 bp    mRNA    linear   PRI 25-AUG-2016\n",
      "LOCUS       NM_001141979            6210 bp    mRNA    linear   PRI 25-AUG-2016\n",
      "LOCUS       NM_005657               6236 bp    mRNA    linear   PRI 25-AUG-2016\n",
      "LOCUS       NM_001276699            2331 bp    mRNA    linear   PRI 12-JUN-2016\n",
      "LOCUS       NM_001276695            2651 bp    mRNA    linear   PRI 12-JUN-2016\n",
      "LOCUS       NM_001126113            2651 bp    mRNA    linear   PRI 12-JUN-2016\n",
      "LOCUS       NM_001126117            2331 bp    mRNA    linear   PRI 12-JUN-2016\n",
      "LOCUS       XM_017022533           10470 bp    mRNA    linear   PRI 06-JUN-2016\n",
      "LOCUS       XM_011521986            5967 bp    mRNA    linear   PRI 06-JUN-2016\n",
      "LOCUS       XR_001751382           10533 bp    RNA     linear   PRI 06-JUN-2016\n",
      "LOCUS       XR_931899               3878 bp    RNA     linear   PRI 06-JUN-2016\n",
      "LOCUS       XM_011521985           10215 bp    mRNA    linear   PRI 06-JUN-2016\n",
      "LOCUS       NM_000546               2591 bp    mRNA    linear   PRI 23-APR-2016\n",
      "LOCUS       NM_001276698            2404 bp    mRNA    linear   PRI 14-NOV-2015\n",
      "LOCUS       NM_001276697            2271 bp    mRNA    linear   PRI 14-NOV-2015\n",
      "LOCUS       NM_001276696            2724 bp    mRNA    linear   PRI 14-NOV-2015\n",
      "LOCUS       NM_001276761            2588 bp    mRNA    linear   PRI 14-NOV-2015\n",
      "LOCUS       NM_001276760            2591 bp    mRNA    linear   PRI 14-NOV-2015\n",
      "LOCUS       NM_001126118            2708 bp    mRNA    linear   PRI 14-NOV-2015\n",
      "LOCUS       NM_001126114            2724 bp    mRNA    linear   PRI 14-NOV-2015\n",
      "LOCUS       NM_001126112            2588 bp    mRNA    linear   PRI 14-NOV-2015\n",
      "LOCUS       NM_001126116            2404 bp    mRNA    linear   PRI 14-NOV-2015\n",
      "LOCUS       NM_001126115            2271 bp    mRNA    linear   PRI 14-NOV-2015\n"
     ]
    }
   ],
   "source": [
    "import requests\n",
    "import json\n",
    "from cStringIO import StringIO\n",
    "\n",
    "email = 'greg.clinton@gmail.com'\n",
    "\n",
    "def entrez(cgi, path):\n",
    "    use_json = cgi != 'efetch'\n",
    "    url = 'https://eutils.ncbi.nlm.nih.gov/entrez/eutils/'\n",
    "    url += cgi + '.fcgi?'\n",
    "    url += '' if path == None else ('%s&' % path) \n",
    "    url += 'tool=entrez&email=' + email\n",
    "    url += '&retmode=%s' % 'json' if use_json else 'text'\n",
    "    text = requests.get(url).text\n",
    "    return json.loads(text)[cgi + 'result'] if use_json else text\n",
    "\n",
    "def einfo(db = None):\n",
    "    return entrez('einfo', '' if db == None else 'version=2.0&db=%s' % db)\n",
    "\n",
    "def databases():\n",
    "    return einfo()['dblist']\n",
    "\n",
    "def fields(db):\n",
    "    class Field: pass\n",
    "\n",
    "    fields = []\n",
    "    for item in einfo(db)['dbinfo']['fieldlist']:\n",
    "        field = Field()\n",
    "        for key, value in item.iteritems():\n",
    "            setattr(field, key, value)\n",
    "        fields.append(field)\n",
    "    return fields\n",
    "\n",
    "def esearch(db, term):\n",
    "    res = entrez('esearch', 'db=%s&term=%s&usehistory=y' % (db, term))\n",
    "    return res['webenv'], res['querykey']\n",
    "\n",
    "def parse_gb(text):\n",
    "    records = []\n",
    "    stream = StringIO(text)\n",
    "    \n",
    "    while True:\n",
    "        line = stream.readline()\n",
    "        \n",
    "        if line == '':\n",
    "            break\n",
    "            \n",
    "        line = line.strip('\\n')\n",
    "        if line.startswith('LOCUS'):\n",
    "            records.append(line)\n",
    "    \n",
    "    return records\n",
    "\n",
    "def efetch(db, history, rettype = 'gb'):\n",
    "    env, key = history\n",
    "    path = 'db=%s&WebEnv=%s&query_key=%s&rettype=%s' % (db, env, key, rettype)\n",
    "    text = entrez('efetch', path)\n",
    "    return parse_gb(text) if rettype == 'gb' else text\n",
    "\n",
    "records = efetch('nuccore', esearch('nuccore', q))\n",
    "\n",
    "for record in records:\n",
    "    print record"
   ]
  }
 ],
 "metadata": {
  "kernelspec": {
   "display_name": "Python 2",
   "language": "python",
   "name": "python2"
  },
  "language_info": {
   "codemirror_mode": {
    "name": "ipython",
    "version": 2
   },
   "file_extension": ".py",
   "mimetype": "text/x-python",
   "name": "python",
   "nbconvert_exporter": "python",
   "pygments_lexer": "ipython2",
   "version": "2.7.9"
  }
 },
 "nbformat": 4,
 "nbformat_minor": 0
}
