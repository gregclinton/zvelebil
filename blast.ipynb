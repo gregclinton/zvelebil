{
 "cells": [
  {
   "cell_type": "code",
   "execution_count": null,
   "metadata": {
    "collapsed": false
   },
   "outputs": [],
   "source": [
    "# sudo -H anaconda/bin/pip install biopython\n",
    "\n",
    "from Bio.Blast import NCBIWWW\n",
    "from Bio import SearchIO"
   ]
  },
  {
   "cell_type": "code",
   "execution_count": 13,
   "metadata": {
    "collapsed": false
   },
   "outputs": [
    {
     "name": "stdout",
     "output_type": "stream",
     "text": [
      "Program: blastn (2.5.0+)\n",
      "  Query: mystery_seq (61)\n",
      " Target: nt\n",
      "   Hits: ----  -----  ----------------------------------------------------------\n",
      "            #  # HSP  ID + description\n",
      "         ----  -----  ----------------------------------------------------------\n",
      "            0      1  gi|731185158|ref|NR_128580.1|  Gorilla gorilla microRNA...\n",
      "            1      1  gi|262205317|ref|NR_030195.1|  Homo sapiens microRNA 52...\n",
      "            2     55  gi|8886975|gb|AC011453.4|  Homo sapiens chromosome 19 c...\n",
      "            3      1  gi|301171311|ref|NR_035856.1|  Pan troglodytes microRNA...\n",
      "            4      1  gi|270133242|ref|NR_032573.1|  Macaca mulatta microRNA ...\n",
      "            5     47  gi|156181109|gb|EU086471.1|  Symphalangus syndactylus B...\n",
      "            6     48  gi|156181108|gb|EU086470.1|  Pygathrix bieti BAC YGM271...\n",
      "            7     61  gi|154152211|gb|AC200331.2|  Pongo abelii BAC clone CH2...\n",
      "            8      2  gi|301171322|ref|NR_035857.1|  Pan troglodytes microRNA...\n",
      "            9      1  gi|301171267|ref|NR_035851.1|  Pan troglodytes microRNA...\n",
      "           10      2  gi|262205330|ref|NR_030198.1|  Homo sapiens microRNA 52...\n",
      "           11      1  gi|262205302|ref|NR_030191.1|  Homo sapiens microRNA 51...\n",
      "           12      1  gi|731442011|ref|NR_128601.1|  Gorilla gorilla microRNA...\n",
      "           13      1  gi|551889976|tpe|HG511007.1|  TPA: Homo sapiens long no...\n",
      "           14      1  gi|301171259|ref|NR_035850.1|  Pan troglodytes microRNA...\n",
      "           15      1  gi|262205451|ref|NR_030222.1|  Homo sapiens microRNA 51...\n",
      "           16      1  gi|34534892|dbj|AK127814.1|  Homo sapiens cDNA FLJ45916...\n",
      "           17     20  gi|25140998|gb|AC008753.9|  Homo sapiens chromosome 19 ...\n",
      "           18      1  gi|731185577|ref|NR_128592.1|  Gorilla gorilla microRNA...\n",
      "           19      1  gi|731185130|ref|NR_128576.1|  Gorilla gorilla microRNA...\n",
      "           20      2  gi|301171447|ref|NR_035871.1|  Pan troglodytes microRNA...\n",
      "           21      1  gi|301171276|ref|NR_035852.1|  Pan troglodytes microRNA...\n",
      "           22      1  gi|262205290|ref|NR_030188.1|  Homo sapiens microRNA 51...\n",
      "           23      1  gi|731184631|ref|NR_128574.1|  Gorilla gorilla microRNA...\n",
      "           24      1  gi|301171354|ref|NR_035860.1|  Pan troglodytes microRNA...\n",
      "           25      1  gi|262205281|ref|NR_030186.1|  Homo sapiens microRNA 52...\n",
      "           26     76  gi|156181110|gb|EU086472.1|  Ateles geoffroyi BAC SM257...\n",
      "           27      2  gi|731184621|ref|NR_128582.1|  Gorilla gorilla microRNA...\n",
      "           28      2  gi|262205298|ref|NR_030190.1|  Homo sapiens microRNA 52...\n",
      "           29      1  gi|731184686|ref|NR_128594.1|  Gorilla gorilla microRNA...\n",
      "           ~~~\n",
      "           47      2  gi|301171146|ref|NR_035837.1|  Pan troglodytes microRNA...\n",
      "           48      2  gi|270133254|ref|NR_032575.1|  Macaca mulatta microRNA ...\n",
      "           49      2  gi|262205445|ref|NR_030221.1|  Homo sapiens microRNA 51...\n"
     ]
    }
   ],
   "source": [
    "mystery = \"\"\"\n",
    ">mystery_seq\n",
    "CCCTCTACAGGGAAGCGCTTTCTGTTGTCTGAAAGAAAAGAAAGTGCTTCCTTTTAGAGGG\n",
    "\"\"\"\n",
    "\n",
    "res = NCBIWWW.qblast(\"blastn\", \"nt\", mystery)\n",
    "blast_qresult = SearchIO.read(res, 'blast-xml')\n",
    "\n",
    "print(blast_qresult)"
   ]
  }
 ],
 "metadata": {
  "kernelspec": {
   "display_name": "Python 2",
   "language": "python",
   "name": "python2"
  },
  "language_info": {
   "codemirror_mode": {
    "name": "ipython",
    "version": 2
   },
   "file_extension": ".py",
   "mimetype": "text/x-python",
   "name": "python",
   "nbconvert_exporter": "python",
   "pygments_lexer": "ipython2",
   "version": "2.7.10"
  }
 },
 "nbformat": 4,
 "nbformat_minor": 0
}
