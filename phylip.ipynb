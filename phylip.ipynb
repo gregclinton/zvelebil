{
 "cells": [
  {
   "cell_type": "code",
   "execution_count": 1,
   "metadata": {
    "collapsed": false
   },
   "outputs": [
    {
     "name": "stdout",
     "output_type": "stream",
     "text": [
      "Usage: /usr/bin/phylip <program>\r\n",
      "  Existing programs are:\r\n",
      "clique\t  dnainvar  dollop    fitch\t      move\tprotdist  treedist\r\n",
      "consense  dnaml     dolmove   gendist\t      neighbor\tprotpars\r\n",
      "contml\t  dnamlk    dolpenny  kitsch\t      pars\trestdist\r\n",
      "contrast  dnamove   drawgram  libdrawgram.so  penny\trestml\r\n",
      "dnacomp   dnapars   drawtree  libdrawtree.so  proml\tretree\r\n",
      "dnadist   dnapenny  factor    mix\t      promlk\tseqboot\r\n"
     ]
    }
   ],
   "source": [
    "# sudo apt-get install phylip\n",
    "!phylip"
   ]
  },
  {
   "cell_type": "code",
   "execution_count": null,
   "metadata": {
    "collapsed": false
   },
   "outputs": [
    {
     "name": "stdout",
     "output_type": "stream",
     "text": [
      "\u001b[2J\u001b[Hdnadist: can't find input file \"infile\"\r\n",
      "Please enter a new file name> "
     ]
    }
   ],
   "source": [
    "# http://evolution.genetics.washington.edu/phylip/doc/dnadist.html\n",
    "!phylip dnadist"
   ]
  },
  {
   "cell_type": "code",
   "execution_count": 13,
   "metadata": {
    "collapsed": false
   },
   "outputs": [],
   "source": [
    "from Bio.Alphabet import generic_dna\n",
    "from Bio.Seq import Seq\n",
    "from Bio.SeqRecord import SeqRecord\n",
    "from Bio.Align import MultipleSeqAlignment"
   ]
  },
  {
   "cell_type": "code",
   "execution_count": 22,
   "metadata": {
    "collapsed": false
   },
   "outputs": [
    {
     "data": {
      "text/plain": [
       "1"
      ]
     },
     "execution_count": 22,
     "metadata": {},
     "output_type": "execute_result"
    }
   ],
   "source": [
    "seq = Seq('ACGT')\n",
    "\n",
    "align = MultipleSeqAlignment([\n",
    "    SeqRecord(Seq('ACTGCTAGCTAG', generic_dna), id = 'Alpha'),\n",
    "    SeqRecord(Seq('ACT-CTAGCTAG', generic_dna), id = 'Beta'),\n",
    "    SeqRecord(Seq('ACTGCTAGDTAG', generic_dna), id = 'Gamma')\n",
    "    ])\n",
    "\n",
    "from Bio import AlignIO\n",
    "\n",
    "AlignIO.write(align, 'my_example.phy', 'phylip')"
   ]
  }
 ],
 "metadata": {
  "kernelspec": {
   "display_name": "Python 2",
   "language": "python",
   "name": "python2"
  },
  "language_info": {
   "codemirror_mode": {
    "name": "ipython",
    "version": 2
   },
   "file_extension": ".py",
   "mimetype": "text/x-python",
   "name": "python",
   "nbconvert_exporter": "python",
   "pygments_lexer": "ipython2",
   "version": "2.7.12"
  }
 },
 "nbformat": 4,
 "nbformat_minor": 0
}
