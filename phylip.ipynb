{
 "cells": [
  {
   "cell_type": "code",
   "execution_count": 1,
   "metadata": {
    "collapsed": false
   },
   "outputs": [
    {
     "name": "stdout",
     "output_type": "stream",
     "text": [
      "Usage: /usr/bin/phylip <program>\r\n",
      "  Existing programs are:\r\n",
      "clique\t  dnainvar  dollop    fitch\t      move\tprotdist  treedist\r\n",
      "consense  dnaml     dolmove   gendist\t      neighbor\tprotpars\r\n",
      "contml\t  dnamlk    dolpenny  kitsch\t      pars\trestdist\r\n",
      "contrast  dnamove   drawgram  libdrawgram.so  penny\trestml\r\n",
      "dnacomp   dnapars   drawtree  libdrawtree.so  proml\tretree\r\n",
      "dnadist   dnapenny  factor    mix\t      promlk\tseqboot\r\n"
     ]
    }
   ],
   "source": [
    "# sudo apt-get install phylip\n",
    "!phylip"
   ]
  },
  {
   "cell_type": "code",
   "execution_count": 10,
   "metadata": {
    "collapsed": false
   },
   "outputs": [],
   "source": [
    "import subprocess\n",
    "import os\n",
    "import pandas as pd\n",
    "from Bio.Alphabet import generic_dna\n",
    "from Bio.Seq import Seq\n",
    "from Bio.SeqRecord import SeqRecord\n",
    "from Bio.Align import MultipleSeqAlignment\n",
    "from Bio import AlignIO"
   ]
  },
  {
   "cell_type": "code",
   "execution_count": 74,
   "metadata": {
    "collapsed": false
   },
   "outputs": [
    {
     "name": "stdout",
     "output_type": "stream",
     "text": [
      "['Alpha' 'Beta' 'Gamma']\n",
      "[[ 0.        0.086643 -1.      ]\n",
      " [ 0.086643  0.       -1.      ]\n",
      " [-1.       -1.        0.      ]]\n"
     ]
    }
   ],
   "source": [
    "# http://evolution.genetics.washington.edu/phylip/doc/dnadist.html\n",
    "align = MultipleSeqAlignment([\n",
    "    SeqRecord(Seq('ACTGCTAGCTAG', generic_dna), id = 'Alpha'),\n",
    "    SeqRecord(Seq('ACT-CTAGCTAG', generic_dna), id = 'Beta'),\n",
    "    SeqRecord(Seq('ACTGCTAGDTAG', generic_dna), id = 'Gamma')\n",
    "    ])\n",
    "\n",
    "AlignIO.write(align, 'infile', 'phylip')\n",
    "\n",
    "os.remove('outfile')\n",
    "p = subprocess.Popen(['phylip', 'dnadist'], stdin = subprocess.PIPE)\n",
    "p.stdin.write('D\\nD\\nD\\nY\\n')\n",
    "p.communicate()[0]\n",
    "p.stdin.close()\n",
    "results = pd.read_fwf('outfile', skiprows = 1, header = None)\n",
    "names = results[0].values\n",
    "grid = results.values[:, 1 :].astype(float)\n",
    "\n",
    "print names\n",
    "print grid"
   ]
  }
 ],
 "metadata": {
  "kernelspec": {
   "display_name": "Python 2",
   "language": "python",
   "name": "python2"
  },
  "language_info": {
   "codemirror_mode": {
    "name": "ipython",
    "version": 2
   },
   "file_extension": ".py",
   "mimetype": "text/x-python",
   "name": "python",
   "nbconvert_exporter": "python",
   "pygments_lexer": "ipython2",
   "version": "2.7.12"
  }
 },
 "nbformat": 4,
 "nbformat_minor": 0
}
