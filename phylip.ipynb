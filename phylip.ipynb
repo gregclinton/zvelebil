{
 "cells": [
  {
   "cell_type": "code",
   "execution_count": 2,
   "metadata": {
    "collapsed": false
   },
   "outputs": [
    {
     "name": "stdout",
     "output_type": "stream",
     "text": [
      "Usage: /usr/bin/phylip <program>\r\n",
      "  Existing programs are:\r\n",
      "clique\t  dnadist   dnapars   drawgram\tkitsch\t  penny     restdist\r\n",
      "consense  dnainvar  dnapenny  drawtree\tmix\t  proml     restml\r\n",
      "contml\t  dnaml     dollop    factor\tmove\t  promlk    retree\r\n",
      "contrast  dnamlk    dolmove   fitch\tneighbor  protdist  seqboot\r\n",
      "dnacomp   dnamove   dolpenny  gendist\tpars\t  protpars  treedist\r\n"
     ]
    }
   ],
   "source": [
    "# sudo apt-get install phylip\n",
    "!phylip"
   ]
  },
  {
   "cell_type": "code",
   "execution_count": 1,
   "metadata": {
    "collapsed": false
   },
   "outputs": [
    {
     "name": "stdout",
     "output_type": "stream",
     "text": [
      "\r\n",
      "MUSCLE v3.8.31 by Robert C. Edgar\r\n",
      "\r\n",
      "http://www.drive5.com/muscle\r\n",
      "This software is donated to the public domain.\r\n",
      "Please cite: Edgar, R.C. Nucleic Acids Res 32(5), 1792-97.\r\n",
      "\r\n",
      "\r\n",
      "Basic usage\r\n",
      "\r\n",
      "    muscle -in <inputfile> -out <outputfile>\r\n",
      "\r\n",
      "Common options (for a complete list please see the User Guide):\r\n",
      "\r\n",
      "    -in <inputfile>    Input file in FASTA format (default stdin)\r\n",
      "    -out <outputfile>  Output alignment in FASTA format (default stdout)\r\n",
      "    -diags             Find diagonals (faster for similar sequences)\r\n",
      "    -maxiters <n>      Maximum number of iterations (integer, default 16)\r\n",
      "    -maxhours <h>      Maximum time to iterate in hours (default no limit)\r\n",
      "    -html              Write output in HTML format (default FASTA)\r\n",
      "    -msf               Write output in GCG MSF format (default FASTA)\r\n",
      "    -clw               Write output in CLUSTALW format (default FASTA)\r\n",
      "    -clwstrict         As -clw, with 'CLUSTAL W (1.81)' header\r\n",
      "    -log[a] <logfile>  Log to file (append if -loga, overwrite if -log)\r\n",
      "    -quiet             Do not write progress messages to stderr\r\n",
      "    -version           Display version information and exit\r\n",
      "\r\n",
      "Without refinement (very fast, avg accuracy similar to T-Coffee): -maxiters 2\r\n",
      "Fastest possible (amino acids): -maxiters 1 -diags -sv -distance1 kbit20_3\r\n",
      "Fastest possible (nucleotides): -maxiters 1 -diags\r\n"
     ]
    }
   ],
   "source": [
    "!muscle3.8.31_i86linux64"
   ]
  },
  {
   "cell_type": "code",
   "execution_count": 6,
   "metadata": {
    "collapsed": false
   },
   "outputs": [],
   "source": [
    "import subprocess\n",
    "import os\n",
    "import os.path\n",
    "import pandas as pd\n",
    "from Bio.Alphabet import generic_dna\n",
    "from Bio.Seq import Seq\n",
    "from Bio.SeqRecord import SeqRecord\n",
    "from Bio.Align import MultipleSeqAlignment\n",
    "from Bio import AlignIO"
   ]
  },
  {
   "cell_type": "code",
   "execution_count": 13,
   "metadata": {
    "collapsed": false
   },
   "outputs": [
    {
     "name": "stdout",
     "output_type": "stream",
     "text": [
      "['Alpha' 'Beta' 'Gamma']\n",
      "[[ 0.        0.086643 -1.      ]\n",
      " [ 0.086643  0.       -1.      ]\n",
      " [-1.       -1.        0.      ]]\n"
     ]
    }
   ],
   "source": [
    "# http://evolution.genetics.washington.edu/phylip/doc/dnadist.html\n",
    "align = MultipleSeqAlignment([\n",
    "    SeqRecord(Seq('ACTGCTAGCTAG', generic_dna), id = 'Alpha'),\n",
    "    SeqRecord(Seq('ACT-CTAGCTAG', generic_dna), id = 'Beta'),\n",
    "    SeqRecord(Seq('ACTGCTAGDTAG', generic_dna), id = 'Gamma')\n",
    "    ])\n",
    "\n",
    "AlignIO.write(align, 'infile', 'phylip')\n",
    "\n",
    "if os.path.exists('outfile'):\n",
    "    os.remove('outfile')\n",
    "p = subprocess.Popen(['phylip', 'dnadist'], stdin = subprocess.PIPE)\n",
    "p.stdin.write('D\\nD\\nD\\nY\\n')\n",
    "p.communicate()[0]\n",
    "p.stdin.close()\n",
    "results = pd.read_fwf('outfile', skiprows = 1, header = None)\n",
    "names = results[0].values\n",
    "grid = results.values[:, 1 :].astype(float)\n",
    "\n",
    "print names\n",
    "print grid"
   ]
  }
 ],
 "metadata": {
  "kernelspec": {
   "display_name": "Python 2",
   "language": "python",
   "name": "python2"
  },
  "language_info": {
   "codemirror_mode": {
    "name": "ipython",
    "version": 2
   },
   "file_extension": ".py",
   "mimetype": "text/x-python",
   "name": "python",
   "nbconvert_exporter": "python",
   "pygments_lexer": "ipython2",
   "version": "2.7.12"
  }
 },
 "nbformat": 4,
 "nbformat_minor": 0
}
